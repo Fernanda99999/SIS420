{
  "cells": [
    {
      "cell_type": "markdown",
      "metadata": {
        "id": "mOaBHO-_Y0-9"
      },
      "source": [
        "REGRESION MULTIVARIABLE"
      ]
    },
    {
      "cell_type": "code",
      "execution_count": null,
      "metadata": {
        "id": "f0WGMMljlHQz"
      },
      "outputs": [],
      "source": [
        "# utilizado para manejos de directorios y rutas\n",
        "import os\n",
        "\n",
        "# Computacion vectorial y cientifica para python\n",
        "import numpy as np\n",
        "\n",
        "# Librerias para graficación (trazado de gráficos)\n",
        "from matplotlib import pyplot\n",
        "\n",
        "# llama a matplotlib a embeber graficas dentro de los cuadernillos\n",
        "%matplotlib inline\n",
        "\n",
        "import pandas as pd"
      ]
    },
    {
      "cell_type": "code",
      "execution_count": null,
      "metadata": {
        "id": "6BP5grkxlHQ0"
      },
      "outputs": [],
      "source": [
        "# Cargamos el dataset\n",
        "data = pd.read_csv('ford_D2.csv', delimiter=',')"
      ]
    },
    {
      "cell_type": "code",
      "execution_count": null,
      "metadata": {
        "id": "fVQ6iRxwY0_B",
        "outputId": "6a3f3e4c-b5b7-48d9-9c58-56a8694bce38"
      },
      "outputs": [
        {
          "name": "stdout",
          "output_type": "stream",
          "text": [
            "<class 'pandas.core.frame.DataFrame'>\n",
            "RangeIndex: 17966 entries, 0 to 17965\n",
            "Data columns (total 9 columns):\n",
            " #   Column        Non-Null Count  Dtype  \n",
            "---  ------        --------------  -----  \n",
            " 0   model         17966 non-null  object \n",
            " 1   year          17966 non-null  int64  \n",
            " 2   price         17966 non-null  int64  \n",
            " 3   transmission  17966 non-null  object \n",
            " 4   mileage       17966 non-null  int64  \n",
            " 5   fuelType      17966 non-null  object \n",
            " 6   tax           17966 non-null  int64  \n",
            " 7   mpg           17966 non-null  float64\n",
            " 8   engineSize    17966 non-null  float64\n",
            "dtypes: float64(2), int64(4), object(3)\n",
            "memory usage: 1.2+ MB\n"
          ]
        }
      ],
      "source": [
        "data.info() # se muestra la informacion del dataset"
      ]
    },
    {
      "cell_type": "code",
      "execution_count": null,
      "metadata": {
        "id": "mzlS8ZRlY0_B",
        "outputId": "de7ee69d-4e40-465f-e722-9f55d47439d3"
      },
      "outputs": [
        {
          "data": {
            "text/html": [
              "<div>\n",
              "<style scoped>\n",
              "    .dataframe tbody tr th:only-of-type {\n",
              "        vertical-align: middle;\n",
              "    }\n",
              "\n",
              "    .dataframe tbody tr th {\n",
              "        vertical-align: top;\n",
              "    }\n",
              "\n",
              "    .dataframe thead th {\n",
              "        text-align: right;\n",
              "    }\n",
              "</style>\n",
              "<table border=\"1\" class=\"dataframe\">\n",
              "  <thead>\n",
              "    <tr style=\"text-align: right;\">\n",
              "      <th></th>\n",
              "      <th>model</th>\n",
              "      <th>year</th>\n",
              "      <th>transmission</th>\n",
              "      <th>mileage</th>\n",
              "      <th>fuelType</th>\n",
              "      <th>tax</th>\n",
              "      <th>mpg</th>\n",
              "      <th>engineSize</th>\n",
              "      <th>price</th>\n",
              "    </tr>\n",
              "  </thead>\n",
              "  <tbody>\n",
              "    <tr>\n",
              "      <th>0</th>\n",
              "      <td>5</td>\n",
              "      <td>2017</td>\n",
              "      <td>0</td>\n",
              "      <td>15944</td>\n",
              "      <td>4</td>\n",
              "      <td>150</td>\n",
              "      <td>57.7</td>\n",
              "      <td>1.0</td>\n",
              "      <td>12000</td>\n",
              "    </tr>\n",
              "    <tr>\n",
              "      <th>1</th>\n",
              "      <td>6</td>\n",
              "      <td>2018</td>\n",
              "      <td>1</td>\n",
              "      <td>9083</td>\n",
              "      <td>4</td>\n",
              "      <td>150</td>\n",
              "      <td>57.7</td>\n",
              "      <td>1.0</td>\n",
              "      <td>14000</td>\n",
              "    </tr>\n",
              "    <tr>\n",
              "      <th>2</th>\n",
              "      <td>6</td>\n",
              "      <td>2017</td>\n",
              "      <td>1</td>\n",
              "      <td>12456</td>\n",
              "      <td>4</td>\n",
              "      <td>150</td>\n",
              "      <td>57.7</td>\n",
              "      <td>1.0</td>\n",
              "      <td>13000</td>\n",
              "    </tr>\n",
              "    <tr>\n",
              "      <th>3</th>\n",
              "      <td>5</td>\n",
              "      <td>2019</td>\n",
              "      <td>1</td>\n",
              "      <td>10460</td>\n",
              "      <td>4</td>\n",
              "      <td>145</td>\n",
              "      <td>40.3</td>\n",
              "      <td>1.5</td>\n",
              "      <td>17500</td>\n",
              "    </tr>\n",
              "    <tr>\n",
              "      <th>4</th>\n",
              "      <td>5</td>\n",
              "      <td>2019</td>\n",
              "      <td>0</td>\n",
              "      <td>1482</td>\n",
              "      <td>4</td>\n",
              "      <td>145</td>\n",
              "      <td>48.7</td>\n",
              "      <td>1.0</td>\n",
              "      <td>16500</td>\n",
              "    </tr>\n",
              "    <tr>\n",
              "      <th>...</th>\n",
              "      <td>...</td>\n",
              "      <td>...</td>\n",
              "      <td>...</td>\n",
              "      <td>...</td>\n",
              "      <td>...</td>\n",
              "      <td>...</td>\n",
              "      <td>...</td>\n",
              "      <td>...</td>\n",
              "      <td>...</td>\n",
              "    </tr>\n",
              "    <tr>\n",
              "      <th>17961</th>\n",
              "      <td>0</td>\n",
              "      <td>2017</td>\n",
              "      <td>1</td>\n",
              "      <td>16700</td>\n",
              "      <td>4</td>\n",
              "      <td>150</td>\n",
              "      <td>47.1</td>\n",
              "      <td>1.4</td>\n",
              "      <td>8999</td>\n",
              "    </tr>\n",
              "    <tr>\n",
              "      <th>17962</th>\n",
              "      <td>0</td>\n",
              "      <td>2014</td>\n",
              "      <td>1</td>\n",
              "      <td>40700</td>\n",
              "      <td>4</td>\n",
              "      <td>30</td>\n",
              "      <td>57.7</td>\n",
              "      <td>1.0</td>\n",
              "      <td>7499</td>\n",
              "    </tr>\n",
              "    <tr>\n",
              "      <th>17963</th>\n",
              "      <td>6</td>\n",
              "      <td>2015</td>\n",
              "      <td>1</td>\n",
              "      <td>7010</td>\n",
              "      <td>0</td>\n",
              "      <td>20</td>\n",
              "      <td>67.3</td>\n",
              "      <td>1.6</td>\n",
              "      <td>9999</td>\n",
              "    </tr>\n",
              "    <tr>\n",
              "      <th>17964</th>\n",
              "      <td>11</td>\n",
              "      <td>2018</td>\n",
              "      <td>1</td>\n",
              "      <td>5007</td>\n",
              "      <td>4</td>\n",
              "      <td>145</td>\n",
              "      <td>57.7</td>\n",
              "      <td>1.2</td>\n",
              "      <td>8299</td>\n",
              "    </tr>\n",
              "    <tr>\n",
              "      <th>17965</th>\n",
              "      <td>23</td>\n",
              "      <td>2015</td>\n",
              "      <td>1</td>\n",
              "      <td>5007</td>\n",
              "      <td>4</td>\n",
              "      <td>22</td>\n",
              "      <td>57.7</td>\n",
              "      <td>1.0</td>\n",
              "      <td>8299</td>\n",
              "    </tr>\n",
              "  </tbody>\n",
              "</table>\n",
              "<p>17966 rows × 9 columns</p>\n",
              "</div>"
            ],
            "text/plain": [
              "       model  year  transmission  mileage  fuelType  tax   mpg  engineSize  \\\n",
              "0          5  2017             0    15944         4  150  57.7         1.0   \n",
              "1          6  2018             1     9083         4  150  57.7         1.0   \n",
              "2          6  2017             1    12456         4  150  57.7         1.0   \n",
              "3          5  2019             1    10460         4  145  40.3         1.5   \n",
              "4          5  2019             0     1482         4  145  48.7         1.0   \n",
              "...      ...   ...           ...      ...       ...  ...   ...         ...   \n",
              "17961      0  2017             1    16700         4  150  47.1         1.4   \n",
              "17962      0  2014             1    40700         4   30  57.7         1.0   \n",
              "17963      6  2015             1     7010         0   20  67.3         1.6   \n",
              "17964     11  2018             1     5007         4  145  57.7         1.2   \n",
              "17965     23  2015             1     5007         4   22  57.7         1.0   \n",
              "\n",
              "       price  \n",
              "0      12000  \n",
              "1      14000  \n",
              "2      13000  \n",
              "3      17500  \n",
              "4      16500  \n",
              "...      ...  \n",
              "17961   8999  \n",
              "17962   7499  \n",
              "17963   9999  \n",
              "17964   8299  \n",
              "17965   8299  \n",
              "\n",
              "[17966 rows x 9 columns]"
            ]
          },
          "metadata": {},
          "output_type": "display_data"
        }
      ],
      "source": [
        "from sklearn.preprocessing import LabelEncoder # de la biblioteca sklearn se importa la funcion \"labelEnconder\"\n",
        "#Transformacion de columnas categoricas a numericas\n",
        "#selecciona las columnas del dataset de tipo object\n",
        "columnas_categoricas = data.select_dtypes(include=['object']).columns\n",
        "#El for recorrera cada columna categorica\n",
        "for columna in columnas_categoricas:\n",
        "  #El LabelEncoder se utiliza para codificar las etiquetas categóricas como valores numéricos\n",
        "  le = LabelEncoder()\n",
        "  #aplica la transformación a la columna actual\n",
        "  #El método fit_transform del LabelEncoder ajusta el codificador a los datos de la columna\n",
        "  # y transforma las etiquetas categóricas en valores numéricos\n",
        "  data[columna] = le.fit_transform(data[columna])\n",
        "\n",
        "columnas = data.columns.tolist() # Sirve para mover la columna 'Price' al final para tener mas orden\n",
        "columnas.remove(\"price\") # se quita la columna \"price\"\n",
        "columnas.append(\"price\") # para que aparezca al final\n",
        "data = data[columnas] # array de data definido como columnas\n",
        "display(data) # y se muestra el dataset"
      ]
    },
    {
      "cell_type": "code",
      "execution_count": null,
      "metadata": {
        "id": "GgZgdiaeY0_C"
      },
      "outputs": [],
      "source": [
        "# Seleccionamos las columnas independientes (X) y dependiente(y)\n",
        "X = data.iloc[:, :8]\n",
        "y = data.iloc[:, 8]\n",
        "m = y.size"
      ]
    },
    {
      "cell_type": "code",
      "execution_count": null,
      "metadata": {
        "id": "t855rcazY0_C",
        "outputId": "70a388b9-4078-4266-dbac-735371075036"
      },
      "outputs": [
        {
          "name": "stdout",
          "output_type": "stream",
          "text": [
            "       model  year  transmission  mileage  fuelType  tax   mpg  engineSize\n",
            "0          5  2017             0    15944         4  150  57.7         1.0\n",
            "1          6  2018             1     9083         4  150  57.7         1.0\n",
            "2          6  2017             1    12456         4  150  57.7         1.0\n",
            "3          5  2019             1    10460         4  145  40.3         1.5\n",
            "4          5  2019             0     1482         4  145  48.7         1.0\n",
            "...      ...   ...           ...      ...       ...  ...   ...         ...\n",
            "17961      0  2017             1    16700         4  150  47.1         1.4\n",
            "17962      0  2014             1    40700         4   30  57.7         1.0\n",
            "17963      6  2015             1     7010         0   20  67.3         1.6\n",
            "17964     11  2018             1     5007         4  145  57.7         1.2\n",
            "17965     23  2015             1     5007         4   22  57.7         1.0\n",
            "\n",
            "[17966 rows x 8 columns]\n"
          ]
        }
      ],
      "source": [
        "print(X) # se imprime X"
      ]
    },
    {
      "cell_type": "code",
      "execution_count": null,
      "metadata": {
        "id": "06Xubuu_Y0_C",
        "outputId": "3792f025-736c-47ae-80b1-a07cedddcb9b"
      },
      "outputs": [
        {
          "name": "stdout",
          "output_type": "stream",
          "text": [
            "0        12000\n",
            "1        14000\n",
            "2        13000\n",
            "3        17500\n",
            "4        16500\n",
            "         ...  \n",
            "17961     8999\n",
            "17962     7499\n",
            "17963     9999\n",
            "17964     8299\n",
            "17965     8299\n",
            "Name: price, Length: 17966, dtype: int64\n"
          ]
        }
      ],
      "source": [
        "print(y) #se imprime y"
      ]
    },
    {
      "cell_type": "code",
      "execution_count": null,
      "metadata": {
        "id": "7xFD8H3WlHQ1"
      },
      "outputs": [],
      "source": [
        "# Funcion de normalizacion de caracteristicas, para mejorar el rendimiento\n",
        "def  featureNormalize(X): # se define a la normalizacion\n",
        "    X_norm = X.copy() # Se hace una copia de X_norm\n",
        "    mu = np.zeros(X.shape[1]) # 8, [0,0,0,0,0,0,0,0] # En la media se crea una fila de solo 0s\n",
        "    sigma = np.zeros(X.shape[1]) # en la desviacion estandar pasa lo mismo\n",
        "\n",
        "    mu = np.mean(X, axis = 0) # ecuacion de la media\n",
        "    sigma = np.std(X, axis = 0) #ecuacion de la desviacion estandar\n",
        "    X_norm = (X - mu) / sigma # ecuacion para normalizar datos\n",
        "\n",
        "    return X_norm, mu, sigma # retorna la X_norm, media, desviacion estandar"
      ]
    },
    {
      "cell_type": "code",
      "execution_count": null,
      "metadata": {
        "colab": {
          "base_uri": "https://localhost:8080/"
        },
        "id": "ipL_QsTZlHQ2",
        "outputId": "3acd77c0-8d93-40d6-c4b2-28cbf45f52e0"
      },
      "outputs": [
        {
          "name": "stdout",
          "output_type": "stream",
          "text": [
            "Media calculada:\n",
            " model               6.848547\n",
            "year             2016.866470\n",
            "transmission        0.984749\n",
            "mileage         23362.608761\n",
            "fuelType            2.714294\n",
            "tax               113.329456\n",
            "mpg                57.906980\n",
            "engineSize          1.350807\n",
            "dtype: float64\n",
            "Desviación estandar calculada:\n",
            " model               4.012483\n",
            "year                2.050279\n",
            "transmission        0.368815\n",
            "mileage         19471.512428\n",
            "fuelType            1.866651\n",
            "tax                62.010730\n",
            "mpg                10.125414\n",
            "engineSize          0.432355\n",
            "dtype: float64\n",
            "          model      year  transmission   mileage  fuelType       tax  \\\n",
            "0     -0.460699  0.065128     -2.670032 -0.380998  0.688777  0.591358   \n",
            "1     -0.211477  0.552866      0.041351 -0.733359  0.688777  0.591358   \n",
            "2     -0.211477  0.065128      0.041351 -0.560132  0.688777  0.591358   \n",
            "3     -0.460699  1.040605      0.041351 -0.662640  0.688777  0.510727   \n",
            "4     -0.460699  1.040605     -2.670032 -1.123724  0.688777  0.510727   \n",
            "...         ...       ...           ...       ...       ...       ...   \n",
            "17961 -1.706810  0.065128      0.041351 -0.342172  0.688777  0.591358   \n",
            "17962 -1.706810 -1.398088      0.041351  0.890398  0.688777 -1.343791   \n",
            "17963 -0.211477 -0.910349      0.041351 -0.839822 -1.454098 -1.505053   \n",
            "17964  1.034634  0.552866      0.041351 -0.942690  0.688777  0.510727   \n",
            "17965  4.025302 -0.910349      0.041351 -0.942690  0.688777 -1.472801   \n",
            "\n",
            "            mpg  engineSize  \n",
            "0     -0.020442   -0.811386  \n",
            "1     -0.020442   -0.811386  \n",
            "2     -0.020442   -0.811386  \n",
            "3     -1.738890    0.345070  \n",
            "4     -0.909294   -0.811386  \n",
            "...         ...         ...  \n",
            "17961 -1.067312    0.113779  \n",
            "17962 -0.020442   -0.811386  \n",
            "17963  0.927668    0.576362  \n",
            "17964 -0.020442   -0.348804  \n",
            "17965 -0.020442   -0.811386  \n",
            "\n",
            "[17966 rows x 8 columns]\n"
          ]
        }
      ],
      "source": [
        "# llama featureNormalize con los datos cargados X_norm, media, desviacion estandar\n",
        "X_norm, mu, sigma = featureNormalize(X)\n",
        "\n",
        "print('Media calculada:\\n', mu)\n",
        "print('Desviación estandar calculada:\\n', sigma) # se imprime todo\n",
        "print(X_norm)"
      ]
    },
    {
      "cell_type": "code",
      "execution_count": null,
      "metadata": {
        "id": "nNaGVxgolHQ2"
      },
      "outputs": [],
      "source": [
        "# añadimos una columna de unos como primera columna en X\n",
        "X = np.concatenate([np.ones((m, 1)), X_norm], axis=1)"
      ]
    },
    {
      "cell_type": "code",
      "execution_count": null,
      "metadata": {
        "id": "EQCMN7KqlHQ3"
      },
      "outputs": [],
      "source": [
        "# Funcion del costo, uso del error cuadratico medio, calcula la diferencia entre predicciones y valores reales\n",
        "def computeCostMulti(X, y, theta):\n",
        "    m = y.shape[0] # numero de filas\n",
        "    J = 0 # se define la \"J\" como variable\n",
        "    J = (1/(2 * m)) * np.sum(np.square(np.dot(X, theta) - y)) # ecuacion de la funcion de costo\n",
        "    return J # Devuelve J"
      ]
    },
    {
      "cell_type": "code",
      "execution_count": null,
      "metadata": {
        "id": "Vdy_aQUklHQ4"
      },
      "outputs": [],
      "source": [
        "# Funcion descenso de la gradiente, ajusta los parametros del modelo de regresion\n",
        "def gradientDescentMulti(X, y, theta, alpha, num_iters): # Se define la funcion de descenso de la gradiente con \"X, y, theta, alpha, num_iters\"\n",
        "    m = y.shape[0] # numero de filas\n",
        "    theta = theta.copy() # se define una copia de theta\n",
        "    J_history = [] # se define el repositorio de J_history\n",
        "    for i in range(num_iters): # Rango de numero de interaciones, se usa cuando se llama a la funcion de num_iters\n",
        "        theta = theta - (alpha / m) * (np.dot(X, theta) - y).dot(X) # Esta funcion sirve para guardar los valores optimos de theta\n",
        "        J_history.append(computeCostMulti(X, y, theta)) # Aqui se define lo que se guardara en el repositorio de J_history\n",
        "    return theta, J_history # se retorna theta y J_history"
      ]
    },
    {
      "cell_type": "code",
      "execution_count": null,
      "metadata": {
        "colab": {
          "base_uri": "https://localhost:8080/",
          "height": 326
        },
        "id": "sId0DiH9lHQ4",
        "outputId": "8f495b1a-d56b-4474-ca6b-00de72a0eee9"
      },
      "outputs": [
        {
          "data": {
            "image/png": "[encoded data removed]",
            "text/plain": [
              "<Figure size 640x480 with 1 Axes>"
            ]
          },
          "metadata": {},
          "output_type": "display_data"
        },
        {
          "name": "stdout",
          "output_type": "stream",
          "text": [
            "theta calculado por el descenso por el gradiente: [12278.97763227   130.17203184  2339.35170288   -96.29719075\n",
            " -1269.36099778  -685.91928031    93.12426802 -1108.57634179\n",
            "  1718.47868083]\n",
            "Prueba de prediccion: $14928\n"
          ]
        }
      ],
      "source": [
        "# Elegir algun valor para alpha\n",
        "alpha = 0.0001 # Taza de aprendizaje\n",
        "num_iters = 100000 # n de vueltas\n",
        "\n",
        "# inicializa theta y ejecuta el descenso por el gradiente\n",
        "theta = np.zeros(9) # Se define theta como array de 0s\n",
        "theta, J_history = gradientDescentMulti(X, y, theta, alpha, num_iters) # Se definen los valores de theta y J_history\n",
        "\n",
        "# Grafica la convergencia del costo\n",
        "pyplot.plot(np.arange(len(J_history)), J_history, lw=2) # Esto define el aspecto de la curva en la grafica\n",
        "pyplot.xlabel('Numero de iteraciones') # Se imprimen estos valores\n",
        "pyplot.ylabel('Costo J')\n",
        "pyplot.title('Convergencia del Descenso por el Gradiente')\n",
        "pyplot.show() # se muestra la grafica\n",
        "\n",
        "# Muestra los resultados del descenso por el gradiente\n",
        "print('theta calculado por el descenso por el gradiente: {:s}'.format(str(theta))) # se imprime theta, la funcion es para que este en el formato \"s\", la que saca como formato a theta como texto\n",
        "X_array = [1,6.0,2017.0,1.0,24421.0,0.0,145.0,67.3,2.0] # se obtiene el array de X de una fila aleatoria en X\n",
        "X_array[1:9] = (X_array[1:9] - mu) / sigma # esta es la funcion de array de X\n",
        "Precio = np.dot(X_array, theta) # Se predice el precio\n",
        "\n",
        "print('Prueba de prediccion: ${:.0f}'.format(Precio)) #Se imprimen los siguientes datos\n",
        "print('El precio real de las mismas caracteristicas es $15612')"
      ]
    },
    {
      "cell_type": "code",
      "execution_count": null,
      "metadata": {
        "id": "H_rMUnpgY0_E"
      },
      "outputs": [],
      "source": [
        "X_array = [1,6.0,2017.0,1.0,24421.0,0.0,145.0,67.3,2.0] #Se muestra el array de X sin ninguna alteracion\n",
        "X_array[1:9] = (X_array[1:9] - mu) / sigma  # esta es la funcion de array de X"
      ]
    },
    {
      "cell_type": "code",
      "execution_count": null,
      "metadata": {
        "id": "Jam-BM2XY0_E",
        "outputId": "23840251-65f6-4763-b929-3ee0513e21b0"
      },
      "outputs": [
        {
          "data": {
            "text/plain": [
              "[-0.21147686921338785,\n",
              " 0.06512772484885097,\n",
              " 0.04135139351530032,\n",
              " 0.054355882366359,\n",
              " -1.4540981974257539,\n",
              " 0.5107268401303525,\n",
              " 0.9276677712708046,\n",
              " 1.50152666360059]"
            ]
          },
          "execution_count": 19,
          "metadata": {},
          "output_type": "execute_result"
        }
      ],
      "source": [
        "# imprimimos los datos normalizados de X_array\n",
        "X_array[1:9]"
      ]
    }
  ],
  "metadata": {
    "colab": {
      "provenance": []
    },
    "kernelspec": {
      "display_name": "Python 3",
      "language": "python",
      "name": "python3"
    },
    "language_info": {
      "codemirror_mode": {
        "name": "ipython",
        "version": 3
      },
      "file_extension": ".py",
      "mimetype": "text/x-python",
      "name": "python",
      "nbconvert_exporter": "python",
      "pygments_lexer": "ipython3",
      "version": "3.11.9"
    }
  },
  "nbformat": 4,
  "nbformat_minor": 0
}